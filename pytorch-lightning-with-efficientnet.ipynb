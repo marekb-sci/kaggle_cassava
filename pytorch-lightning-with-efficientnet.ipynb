{
 "cells": [
  {
   "cell_type": "markdown",
   "metadata": {
    "papermill": {
     "duration": 0.02449,
     "end_time": "2021-02-09T16:15:58.517812",
     "exception": false,
     "start_time": "2021-02-09T16:15:58.493322",
     "status": "completed"
    },
    "tags": []
   },
   "source": [
    "Simple training with efficientnet and pytorch_lightening\n",
    "\n",
    "Highlights:\n",
    "- offline efficientnet\n",
    "- easy to use pytorch_lightening module\n",
    "- focal loss\n",
    "- public score 0.862"
   ]
  },
  {
   "cell_type": "markdown",
   "metadata": {
    "papermill": {
     "duration": 0.021079,
     "end_time": "2021-02-09T16:15:58.561228",
     "exception": false,
     "start_time": "2021-02-09T16:15:58.540149",
     "status": "completed"
    },
    "tags": []
   },
   "source": [
    "# Setup"
   ]
  },
  {
   "cell_type": "code",
   "execution_count": 1,
   "metadata": {
    "execution": {
     "iopub.execute_input": "2021-02-09T16:15:58.612676Z",
     "iopub.status.busy": "2021-02-09T16:15:58.611945Z",
     "iopub.status.idle": "2021-02-09T16:15:58.640277Z",
     "shell.execute_reply": "2021-02-09T16:15:58.639106Z"
    },
    "papermill": {
     "duration": 0.057518,
     "end_time": "2021-02-09T16:15:58.640415",
     "exception": false,
     "start_time": "2021-02-09T16:15:58.582897",
     "status": "completed"
    },
    "tags": []
   },
   "outputs": [],
   "source": [
    "import numpy as np # linear algebra\n",
    "import pandas as pd # data processing, CSV file I/O (e.g. pd.read_csv)\n",
    "from pylab import plt\n",
    "\n",
    "import io\n",
    "import itertools\n",
    "from copy import deepcopy\n",
    "import sys, os\n",
    "from pathlib import Path\n",
    "from PIL import Image\n",
    "\n",
    "# %matplotlib notebook\n",
    "\n",
    "train_path = Path('/kaggle/input/cassava-leaf-disease-classification/train_images')\n",
    "test_path = Path('/kaggle/input/cassava-leaf-disease-classification/test_images')\n",
    "labels_path = Path('/kaggle/input/cassava-leaf-disease-classification/train.csv')\n",
    "train_df = pd.read_csv(labels_path)"
   ]
  },
  {
   "cell_type": "code",
   "execution_count": 2,
   "metadata": {
    "execution": {
     "iopub.execute_input": "2021-02-09T16:15:58.697357Z",
     "iopub.status.busy": "2021-02-09T16:15:58.687792Z",
     "iopub.status.idle": "2021-02-09T16:18:28.598325Z",
     "shell.execute_reply": "2021-02-09T16:18:28.597518Z"
    },
    "papermill": {
     "duration": 149.935713,
     "end_time": "2021-02-09T16:18:28.598473",
     "exception": false,
     "start_time": "2021-02-09T16:15:58.662760",
     "status": "completed"
    },
    "tags": []
   },
   "outputs": [
    {
     "name": "stdout",
     "output_type": "stream",
     "text": [
      "\u001b[33mWARNING: Retrying (Retry(total=4, connect=None, read=None, redirect=None, status=None)) after connection broken by 'NewConnectionError('<pip._vendor.urllib3.connection.HTTPSConnection object at 0x7f59e77dac10>: Failed to establish a new connection: [Errno -3] Temporary failure in name resolution')': /simple/efficientnet-pytorch/\u001b[0m\r\n",
      "\u001b[33mWARNING: Retrying (Retry(total=3, connect=None, read=None, redirect=None, status=None)) after connection broken by 'NewConnectionError('<pip._vendor.urllib3.connection.HTTPSConnection object at 0x7f59e77dabd0>: Failed to establish a new connection: [Errno -3] Temporary failure in name resolution')': /simple/efficientnet-pytorch/\u001b[0m\r\n",
      "\u001b[33mWARNING: Retrying (Retry(total=2, connect=None, read=None, redirect=None, status=None)) after connection broken by 'NewConnectionError('<pip._vendor.urllib3.connection.HTTPSConnection object at 0x7f59e77da410>: Failed to establish a new connection: [Errno -3] Temporary failure in name resolution')': /simple/efficientnet-pytorch/\u001b[0m\r\n",
      "\u001b[33mWARNING: Retrying (Retry(total=1, connect=None, read=None, redirect=None, status=None)) after connection broken by 'NewConnectionError('<pip._vendor.urllib3.connection.HTTPSConnection object at 0x7f59e77da250>: Failed to establish a new connection: [Errno -3] Temporary failure in name resolution')': /simple/efficientnet-pytorch/\u001b[0m\r\n",
      "\u001b[33mWARNING: Retrying (Retry(total=0, connect=None, read=None, redirect=None, status=None)) after connection broken by 'NewConnectionError('<pip._vendor.urllib3.connection.HTTPSConnection object at 0x7f59e77da150>: Failed to establish a new connection: [Errno -3] Temporary failure in name resolution')': /simple/efficientnet-pytorch/\u001b[0m\r\n",
      "\u001b[31mERROR: Could not find a version that satisfies the requirement efficientnet_pytorch\u001b[0m\r\n",
      "\u001b[31mERROR: No matching distribution found for efficientnet_pytorch\u001b[0m\r\n"
     ]
    }
   ],
   "source": [
    "! pip install efficientnet_pytorch"
   ]
  },
  {
   "cell_type": "code",
   "execution_count": 3,
   "metadata": {
    "execution": {
     "iopub.execute_input": "2021-02-09T16:18:28.652377Z",
     "iopub.status.busy": "2021-02-09T16:18:28.651492Z",
     "iopub.status.idle": "2021-02-09T16:18:28.653890Z",
     "shell.execute_reply": "2021-02-09T16:18:28.653368Z"
    },
    "papermill": {
     "duration": 0.031651,
     "end_time": "2021-02-09T16:18:28.653979",
     "exception": false,
     "start_time": "2021-02-09T16:18:28.622328",
     "status": "completed"
    },
    "tags": []
   },
   "outputs": [],
   "source": [
    "# for offline usage with my offline efficientnet_pytorch dataset\n",
    "# sys.path.insert(0, '../input/efficientnet-pytorch')"
   ]
  },
  {
   "cell_type": "code",
   "execution_count": 4,
   "metadata": {
    "execution": {
     "iopub.execute_input": "2021-02-09T16:18:28.744556Z",
     "iopub.status.busy": "2021-02-09T16:18:28.743815Z",
     "iopub.status.idle": "2021-02-09T16:18:28.774179Z",
     "shell.execute_reply": "2021-02-09T16:18:28.773739Z"
    },
    "papermill": {
     "duration": 0.096403,
     "end_time": "2021-02-09T16:18:28.774278",
     "exception": false,
     "start_time": "2021-02-09T16:18:28.677875",
     "status": "completed"
    },
    "tags": []
   },
   "outputs": [
    {
     "ename": "ModuleNotFoundError",
     "evalue": "No module named 'efficientnet_pytorch'",
     "output_type": "error",
     "traceback": [
      "\u001b[0;31m---------------------------------------------------------------------------\u001b[0m",
      "\u001b[0;31mModuleNotFoundError\u001b[0m                       Traceback (most recent call last)",
      "\u001b[0;32m<ipython-input-4-28e93c9006a0>\u001b[0m in \u001b[0;36m<module>\u001b[0;34m\u001b[0m\n\u001b[0;32m----> 1\u001b[0;31m \u001b[0;32mimport\u001b[0m \u001b[0mefficientnet_pytorch\u001b[0m\u001b[0;34m\u001b[0m\u001b[0;34m\u001b[0m\u001b[0m\n\u001b[0m",
      "\u001b[0;31mModuleNotFoundError\u001b[0m: No module named 'efficientnet_pytorch'"
     ]
    }
   ],
   "source": [
    "import efficientnet_pytorch"
   ]
  },
  {
   "cell_type": "markdown",
   "metadata": {
    "papermill": {
     "duration": 0.023962,
     "end_time": "2021-02-09T16:18:28.822462",
     "exception": false,
     "start_time": "2021-02-09T16:18:28.798500",
     "status": "completed"
    },
    "tags": []
   },
   "source": [
    "### Confusion matrix code:"
   ]
  },
  {
   "cell_type": "code",
   "execution_count": 5,
   "metadata": {
    "execution": {
     "iopub.execute_input": "2021-02-09T16:18:28.887905Z",
     "iopub.status.busy": "2021-02-09T16:18:28.885966Z",
     "iopub.status.idle": "2021-02-09T16:18:28.888575Z",
     "shell.execute_reply": "2021-02-09T16:18:28.889064Z"
    },
    "papermill": {
     "duration": 0.042516,
     "end_time": "2021-02-09T16:18:28.889185",
     "exception": false,
     "start_time": "2021-02-09T16:18:28.846669",
     "status": "completed"
    },
    "tags": []
   },
   "outputs": [],
   "source": [
    "import itertools\n",
    "import numpy as np\n",
    "import matplotlib.pyplot as plt\n",
    "\n",
    "def get_confusion_matrix(data, N, normalized=True):\n",
    "    confusion_matrix = np.zeros((N, N), dtype = np.int)\n",
    "\n",
    "    for entry in data:\n",
    "        for yi, yhi in zip(entry['y'], entry['y_hat']):\n",
    "            confusion_matrix[int(yi), int(yhi)] += 1\n",
    "    if normalized:\n",
    "        confusion_matrix = confusion_matrix / confusion_matrix.sum(axis=1, keepdims=True)\n",
    "    return confusion_matrix\n",
    "\n",
    "def plot_confusion_matrix(cm):\n",
    "    \"\"\"\n",
    "    based on https://towardsdatascience.com/exploring-confusion-matrix-evolution-on-tensorboard-e66b39f4ac12\n",
    "    Returns a matplotlib figure containing the plotted confusion matrix.\n",
    "\n",
    "    Args:\n",
    "       cm (array, shape = [n, n]): a confusion matrix of integer classes\n",
    "       class_names (array, shape = [n]): String names of the integer classes\n",
    "    \"\"\"\n",
    "    plt.close('all')\n",
    "    figure = plt.figure(figsize=(6, 6))\n",
    "    if np.max(cm) <= 1:\n",
    "        vmin, vmax = 0, 1\n",
    "    else:\n",
    "        vmin, vmax = 0, np.max(cm)\n",
    "    plt.imshow(cm, interpolation='nearest', cmap=plt.cm.Blues, vmin=vmin, vmax=vmax);\n",
    "    plt.title(\"Confusion matrix\")\n",
    "    plt.colorbar()\n",
    "\n",
    "    # Round the confusion matrix.\n",
    "    cm = np.around(cm, decimals=2)\n",
    "\n",
    "    # Use white text if squares are dark; otherwise black.\n",
    "    threshold = cm.max() / 2.\n",
    "\n",
    "    for i, j in itertools.product(range(cm.shape[0]), range(cm.shape[1])):\n",
    "        color = \"white\" if cm[i, j] > threshold else \"black\"\n",
    "        plt.text(j, i, cm[i, j], horizontalalignment=\"center\", color=color)\n",
    "\n",
    "    plt.tight_layout()\n",
    "\n",
    "    return figure"
   ]
  },
  {
   "cell_type": "markdown",
   "metadata": {
    "papermill": {
     "duration": 0.0244,
     "end_time": "2021-02-09T16:18:28.938396",
     "exception": false,
     "start_time": "2021-02-09T16:18:28.913996",
     "status": "completed"
    },
    "tags": []
   },
   "source": [
    "### Focal loss code:"
   ]
  },
  {
   "cell_type": "code",
   "execution_count": 6,
   "metadata": {
    "execution": {
     "iopub.execute_input": "2021-02-09T16:18:29.028793Z",
     "iopub.status.busy": "2021-02-09T16:18:29.012845Z",
     "iopub.status.idle": "2021-02-09T16:18:30.393851Z",
     "shell.execute_reply": "2021-02-09T16:18:30.393150Z"
    },
    "papermill": {
     "duration": 1.430589,
     "end_time": "2021-02-09T16:18:30.393971",
     "exception": false,
     "start_time": "2021-02-09T16:18:28.963382",
     "status": "completed"
    },
    "tags": []
   },
   "outputs": [],
   "source": [
    "\"\"\"from https://github.com/kornia/kornia\"\"\"\n",
    "from typing import Optional\n",
    "\n",
    "import torch\n",
    "import torch.nn as nn\n",
    "import torch.nn.functional as F\n",
    "\n",
    "def one_hot(labels: torch.Tensor,\n",
    "            num_classes: int,\n",
    "            device: Optional[torch.device] = None,\n",
    "            dtype: Optional[torch.dtype] = None,\n",
    "            eps: float = 1e-6) -> torch.Tensor:\n",
    "    r\"\"\"Converts an integer label x-D tensor to a one-hot (x+1)-D tensor.\n",
    "    Args:\n",
    "        labels (torch.Tensor) : tensor with labels of shape :math:`(N, *)`,\n",
    "                                where N is batch size. Each value is an integer\n",
    "                                representing correct classification.\n",
    "        num_classes (int): number of classes in labels.\n",
    "        device (Optional[torch.device]): the desired device of returned tensor.\n",
    "         Default: if None, uses the current device for the default tensor type\n",
    "         (see torch.set_default_tensor_type()). device will be the CPU for CPU\n",
    "         tensor types and the current CUDA device for CUDA tensor types.\n",
    "        dtype (Optional[torch.dtype]): the desired data type of returned\n",
    "         tensor. Default: if None, infers data type from values.\n",
    "    Returns:\n",
    "        torch.Tensor: the labels in one hot tensor of shape :math:`(N, C, *)`,\n",
    "    Examples:\n",
    "        >>> labels = torch.LongTensor([[[0, 1], [2, 0]]])\n",
    "        >>> one_hot(labels, num_classes=3)\n",
    "        tensor([[[[1.0000e+00, 1.0000e-06],\n",
    "                  [1.0000e-06, 1.0000e+00]],\n",
    "        <BLANKLINE>\n",
    "                 [[1.0000e-06, 1.0000e+00],\n",
    "                  [1.0000e-06, 1.0000e-06]],\n",
    "        <BLANKLINE>\n",
    "                 [[1.0000e-06, 1.0000e-06],\n",
    "                  [1.0000e+00, 1.0000e-06]]]])\n",
    "    \"\"\"\n",
    "    if not isinstance(labels, torch.Tensor):\n",
    "        raise TypeError(\"Input labels type is not a torch.Tensor. Got {}\"\n",
    "                        .format(type(labels)))\n",
    "\n",
    "    if not labels.dtype == torch.int64:\n",
    "        raise ValueError(\n",
    "            \"labels must be of the same dtype torch.int64. Got: {}\" .format(\n",
    "                labels.dtype))\n",
    "\n",
    "    if num_classes < 1:\n",
    "        raise ValueError(\"The number of classes must be bigger than one.\"\n",
    "                         \" Got: {}\".format(num_classes))\n",
    "\n",
    "    shape = labels.shape\n",
    "    one_hot = torch.zeros(\n",
    "        (shape[0], num_classes) + shape[1:], device=device, dtype=dtype\n",
    "    )\n",
    "\n",
    "    return one_hot.scatter_(1, labels.unsqueeze(1), 1.0) + eps\n",
    "\n",
    "def focal_loss(\n",
    "        input: torch.Tensor,\n",
    "        target: torch.Tensor,\n",
    "        alpha: float,\n",
    "        gamma: float = 2.0,\n",
    "        reduction: str = 'none',\n",
    "        eps: float = 1e-8) -> torch.Tensor:\n",
    "    r\"\"\"Criterion that computes Focal loss.\n",
    "    According to :cite:`lin2018focal`, the Focal loss is computed as follows:\n",
    "    .. math::\n",
    "        \\text{FL}(p_t) = -\\alpha_t (1 - p_t)^{\\gamma} \\, \\text{log}(p_t)\n",
    "    Where:\n",
    "       - :math:`p_t` is the model's estimated probability for each class.\n",
    "    Args:\n",
    "        input (torch.Tensor): logits tensor with shape :math:`(N, C, *)` where C = number of classes.\n",
    "        target (torch.Tensor): labels tensor with shape :math:`(N, *)` where each value is :math:`0 ≤ targets[i] ≤ C−1`.\n",
    "        alpha (float): Weighting factor :math:`\\alpha \\in [0, 1]`.\n",
    "        gamma (float, optional): Focusing parameter :math:`\\gamma >= 0`. Default 2.\n",
    "        reduction (str, optional): Specifies the reduction to apply to the\n",
    "         output: ‘none’ | ‘mean’ | ‘sum’. ‘none’: no reduction will be applied,\n",
    "         ‘mean’: the sum of the output will be divided by the number of elements\n",
    "         in the output, ‘sum’: the output will be summed. Default: ‘none’.\n",
    "        eps (float, optional): Scalar to enforce numerical stabiliy. Default: 1e-8.\n",
    "    Return:\n",
    "        torch.Tensor: the computed loss.\n",
    "    Example:\n",
    "        >>> N = 5  # num_classes\n",
    "        >>> input = torch.randn(1, N, 3, 5, requires_grad=True)\n",
    "        >>> target = torch.empty(1, 3, 5, dtype=torch.long).random_(N)\n",
    "        >>> output = focal_loss(input, target, alpha=0.5, gamma=2.0, reduction='mean')\n",
    "        >>> output.backward()\n",
    "    \"\"\"\n",
    "    if not isinstance(input, torch.Tensor):\n",
    "        raise TypeError(\"Input type is not a torch.Tensor. Got {}\"\n",
    "                        .format(type(input)))\n",
    "\n",
    "    if not len(input.shape) >= 2:\n",
    "        raise ValueError(\"Invalid input shape, we expect BxCx*. Got: {}\"\n",
    "                         .format(input.shape))\n",
    "\n",
    "    if input.size(0) != target.size(0):\n",
    "        raise ValueError('Expected input batch_size ({}) to match target batch_size ({}).'\n",
    "                         .format(input.size(0), target.size(0)))\n",
    "\n",
    "    n = input.size(0)\n",
    "    out_size = (n,) + input.size()[2:]\n",
    "    if target.size()[1:] != input.size()[2:]:\n",
    "        raise ValueError('Expected target size {}, got {}'.format(\n",
    "            out_size, target.size()))\n",
    "\n",
    "    if not input.device == target.device:\n",
    "        raise ValueError(\n",
    "            \"input and target must be in the same device. Got: {} and {}\" .format(\n",
    "                input.device, target.device))\n",
    "\n",
    "    # compute softmax over the classes axis\n",
    "    input_soft: torch.Tensor = F.softmax(input, dim=1) + eps\n",
    "\n",
    "    # create the labels one hot tensor\n",
    "    target_one_hot: torch.Tensor = one_hot(\n",
    "        target, num_classes=input.shape[1],\n",
    "        device=input.device, dtype=input.dtype)\n",
    "\n",
    "    # compute the actual focal loss\n",
    "    weight = torch.pow(-input_soft + 1., gamma)\n",
    "\n",
    "    focal = -alpha * weight * torch.log(input_soft)\n",
    "    loss_tmp = torch.sum(target_one_hot * focal, dim=1)\n",
    "\n",
    "    if reduction == 'none':\n",
    "        loss = loss_tmp\n",
    "    elif reduction == 'mean':\n",
    "        loss = torch.mean(loss_tmp)\n",
    "    elif reduction == 'sum':\n",
    "        loss = torch.sum(loss_tmp)\n",
    "    else:\n",
    "        raise NotImplementedError(\"Invalid reduction mode: {}\"\n",
    "                                  .format(reduction))\n",
    "    return loss\n",
    "\n",
    "\n",
    "class FocalLoss(nn.Module):\n",
    "    r\"\"\"Criterion that computes Focal loss.\n",
    "    According to :cite:`lin2018focal`, the Focal loss is computed as follows:\n",
    "    .. math::\n",
    "        \\text{FL}(p_t) = -\\alpha_t (1 - p_t)^{\\gamma} \\, \\text{log}(p_t)\n",
    "    Where:\n",
    "       - :math:`p_t` is the model's estimated probability for each class.\n",
    "    Args:\n",
    "        alpha (float): Weighting factor :math:`\\alpha \\in [0, 1]`.\n",
    "        gamma (float, optional): Focusing parameter :math:`\\gamma >= 0`. Default 2.\n",
    "        reduction (str, optional): Specifies the reduction to apply to the\n",
    "         output: ‘none’ | ‘mean’ | ‘sum’. ‘none’: no reduction will be applied,\n",
    "         ‘mean’: the sum of the output will be divided by the number of elements\n",
    "         in the output, ‘sum’: the output will be summed. Default: ‘none’.\n",
    "        eps (float, optional): Scalar to enforce numerical stabiliy. Default: 1e-8.\n",
    "    Shape:\n",
    "        - Input: :math:`(N, C, *)` where C = number of classes.\n",
    "        - Target: :math:`(N, *)` where each value is\n",
    "          :math:`0 ≤ targets[i] ≤ C−1`.\n",
    "    Example:\n",
    "        >>> N = 5  # num_classes\n",
    "        >>> kwargs = {\"alpha\": 0.5, \"gamma\": 2.0, \"reduction\": 'mean'}\n",
    "        >>> criterion = FocalLoss(**kwargs)\n",
    "        >>> input = torch.randn(1, N, 3, 5, requires_grad=True)\n",
    "        >>> target = torch.empty(1, 3, 5, dtype=torch.long).random_(N)\n",
    "        >>> output = criterion(input, target)\n",
    "        >>> output.backward()\n",
    "    \"\"\"\n",
    "\n",
    "    def __init__(self, alpha: float, gamma: float = 2.0,\n",
    "                 reduction: str = 'none', eps: float = 1e-8) -> None:\n",
    "        super(FocalLoss, self).__init__()\n",
    "        self.alpha: float = alpha\n",
    "        self.gamma: float = gamma\n",
    "        self.reduction: str = reduction\n",
    "        self.eps: float = eps\n",
    "\n",
    "    def forward(self, input: torch.Tensor, target: torch.Tensor) -> torch.Tensor:\n",
    "        return focal_loss(input, target, self.alpha, self.gamma, self.reduction, self.eps)\n",
    "\n",
    "\n",
    "def binary_focal_loss_with_logits(\n",
    "        input: torch.Tensor,\n",
    "        target: torch.Tensor,\n",
    "        alpha: float = .25,\n",
    "        gamma: float = 2.0,\n",
    "        reduction: str = 'none',\n",
    "        eps: float = 1e-8) -> torch.Tensor:\n",
    "    r\"\"\"Function that computes Binary Focal loss.\n",
    "    .. math::\n",
    "        \\text{FL}(p_t) = -\\alpha_t (1 - p_t)^{\\gamma} \\, \\text{log}(p_t)\n",
    "    where:\n",
    "       - :math:`p_t` is the model's estimated probability for each class.\n",
    "    Args:\n",
    "        input (torch.Tensor): input data tensor with shape :math:`(N, 1, *)`.\n",
    "        target (torch.Tensor): the target tensor with shape :math:`(N, 1, *)`.\n",
    "        alpha (float): Weighting factor for the rare class :math:`\\alpha \\in [0, 1]`. Default: 0.25.\n",
    "        gamma (float): Focusing parameter :math:`\\gamma >= 0`. Default: 2.0.\n",
    "        reduction (str, optional): Specifies the reduction to apply to the. Default: 'none'.\n",
    "        eps (float): for numerically stability when dividing. Default: 1e-8.\n",
    "    Returns:\n",
    "        torch.tensor: the computed loss.\n",
    "    Examples:\n",
    "        >>> num_classes = 1\n",
    "        >>> kwargs = {\"alpha\": 0.25, \"gamma\": 2.0, \"reduction\": 'mean'}\n",
    "        >>> logits = torch.tensor([[[[6.325]]],[[[5.26]]],[[[87.49]]]])\n",
    "        >>> labels = torch.tensor([[[1.]],[[1.]],[[0.]]])\n",
    "        >>> binary_focal_loss_with_logits(logits, labels, **kwargs)\n",
    "        tensor(4.6052)\n",
    "    \"\"\"\n",
    "\n",
    "    if not isinstance(input, torch.Tensor):\n",
    "        raise TypeError(\"Input type is not a torch.Tensor. Got {}\"\n",
    "                        .format(type(input)))\n",
    "\n",
    "    if not len(input.shape) >= 2:\n",
    "        raise ValueError(\"Invalid input shape, we expect BxCx*. Got: {}\"\n",
    "                         .format(input.shape))\n",
    "\n",
    "    if input.size(0) != target.size(0):\n",
    "        raise ValueError('Expected input batch_size ({}) to match target batch_size ({}).'\n",
    "                         .format(input.size(0), target.size(0)))\n",
    "\n",
    "    probs = torch.sigmoid(input)\n",
    "    target = target.unsqueeze(dim=1)\n",
    "    loss_tmp = -alpha * torch.pow((1. - probs), gamma) * target * torch.log(probs + eps) \\\n",
    "               - (1 - alpha) * torch.pow(probs, gamma) * (1. - target) * torch.log(1. - probs + eps)\n",
    "    loss_tmp = loss_tmp.squeeze(dim=1)\n",
    "\n",
    "    if reduction == 'none':\n",
    "        loss = loss_tmp\n",
    "    elif reduction == 'mean':\n",
    "        loss = torch.mean(loss_tmp)\n",
    "    elif reduction == 'sum':\n",
    "        loss = torch.sum(loss_tmp)\n",
    "    else:\n",
    "        raise NotImplementedError(\"Invalid reduction mode: {}\"\n",
    "                                  .format(reduction))\n",
    "    return loss\n",
    "\n",
    "\n",
    "class BinaryFocalLossWithLogits(nn.Module):\n",
    "    r\"\"\"Criterion that computes Focal loss.\n",
    "    According to :cite:`lin2017focal`, the Focal loss is computed as follows:\n",
    "    .. math::\n",
    "        \\text{FL}(p_t) = -\\alpha_t (1 - p_t)^{\\gamma} \\, \\text{log}(p_t)\n",
    "    where:\n",
    "       - :math:`p_t` is the model's estimated probability for each class.\n",
    "    Args:\n",
    "        alpha (float): Weighting factor for the rare class :math:`\\alpha \\in [0, 1]`.\n",
    "        gamma (float): Focusing parameter :math:`\\gamma >= 0`.\n",
    "        reduction (str, optional): Specifies the reduction to apply to the\n",
    "         output: ‘none’ | ‘mean’ | ‘sum’. ‘none’: no reduction will be applied,\n",
    "         ‘mean’: the sum of the output will be divided by the number of elements\n",
    "         in the output, ‘sum’: the output will be summed. Default: ‘none’.\n",
    "    Shape:\n",
    "        - Input: :math:`(N, 1, *)`.\n",
    "        - Target: :math:`(N, 1, *)`.\n",
    "    Examples:\n",
    "        >>> N = 1  # num_classes\n",
    "        >>> kwargs = {\"alpha\": 0.25, \"gamma\": 2.0, \"reduction\": 'mean'}\n",
    "        >>> loss = BinaryFocalLossWithLogits(**kwargs)\n",
    "        >>> input = torch.randn(1, N, 3, 5, requires_grad=True)\n",
    "        >>> target = torch.empty(1, 3, 5, dtype=torch.long).random_(N)\n",
    "        >>> output = loss(input, target)\n",
    "        >>> output.backward()\n",
    "    \"\"\"\n",
    "\n",
    "    def __init__(self, alpha: float, gamma: float = 2.0,\n",
    "                 reduction: str = 'none') -> None:\n",
    "        super(BinaryFocalLossWithLogits, self).__init__()\n",
    "        self.alpha: float = alpha\n",
    "        self.gamma: float = gamma\n",
    "        self.reduction: str = reduction\n",
    "        self.eps: float = 1e-8\n",
    "\n",
    "    def forward(self, input: torch.Tensor, target: torch.Tensor) -> torch.Tensor:\n",
    "        return binary_focal_loss_with_logits(\n",
    "            input, target, self.alpha, self.gamma, self.reduction, self.eps)"
   ]
  },
  {
   "cell_type": "code",
   "execution_count": 7,
   "metadata": {
    "execution": {
     "iopub.execute_input": "2021-02-09T16:18:30.447997Z",
     "iopub.status.busy": "2021-02-09T16:18:30.447359Z",
     "iopub.status.idle": "2021-02-09T16:18:31.660595Z",
     "shell.execute_reply": "2021-02-09T16:18:31.659705Z"
    },
    "papermill": {
     "duration": 1.241949,
     "end_time": "2021-02-09T16:18:31.660706",
     "exception": false,
     "start_time": "2021-02-09T16:18:30.418757",
     "status": "completed"
    },
    "tags": []
   },
   "outputs": [],
   "source": [
    "import torch\n",
    "from torch.utils.data import DataLoader\n",
    "from torchvision import transforms\n",
    "import pytorch_lightning as pl"
   ]
  },
  {
   "cell_type": "markdown",
   "metadata": {
    "papermill": {
     "duration": 0.024889,
     "end_time": "2021-02-09T16:18:31.710685",
     "exception": false,
     "start_time": "2021-02-09T16:18:31.685796",
     "status": "completed"
    },
    "tags": []
   },
   "source": [
    "## Config"
   ]
  },
  {
   "cell_type": "code",
   "execution_count": 8,
   "metadata": {
    "execution": {
     "iopub.execute_input": "2021-02-09T16:18:31.765682Z",
     "iopub.status.busy": "2021-02-09T16:18:31.764954Z",
     "iopub.status.idle": "2021-02-09T16:18:31.769098Z",
     "shell.execute_reply": "2021-02-09T16:18:31.768666Z"
    },
    "papermill": {
     "duration": 0.033549,
     "end_time": "2021-02-09T16:18:31.769186",
     "exception": false,
     "start_time": "2021-02-09T16:18:31.735637",
     "status": "completed"
    },
    "tags": []
   },
   "outputs": [],
   "source": [
    "N_classes = 5\n",
    "effnet_version ='5'\n",
    "crop_size = 512 #512\n",
    "net_input_size = 256"
   ]
  },
  {
   "cell_type": "markdown",
   "metadata": {
    "papermill": {
     "duration": 0.024325,
     "end_time": "2021-02-09T16:18:31.818119",
     "exception": false,
     "start_time": "2021-02-09T16:18:31.793794",
     "status": "completed"
    },
    "tags": []
   },
   "source": [
    "## Data preparation"
   ]
  },
  {
   "cell_type": "code",
   "execution_count": 9,
   "metadata": {
    "execution": {
     "iopub.execute_input": "2021-02-09T16:18:31.874935Z",
     "iopub.status.busy": "2021-02-09T16:18:31.874193Z",
     "iopub.status.idle": "2021-02-09T16:18:31.877976Z",
     "shell.execute_reply": "2021-02-09T16:18:31.877495Z"
    },
    "papermill": {
     "duration": 0.035255,
     "end_time": "2021-02-09T16:18:31.878068",
     "exception": false,
     "start_time": "2021-02-09T16:18:31.842813",
     "status": "completed"
    },
    "tags": []
   },
   "outputs": [],
   "source": [
    "train_transforms = transforms.Compose([\n",
    "#             transforms.RandomAffine(0, shear=10, scale=(0.8,1.2)),\n",
    "            transforms.RandomCrop((crop_size,crop_size)),\n",
    "            transforms.Resize((net_input_size, net_input_size)),\n",
    "#             transforms.ColorJitter(brightness=0.2, contrast=0.15, saturation=0.1),\n",
    "            transforms.RandomHorizontalFlip()])\n",
    "\n",
    "val_transforms = transforms.Compose([\n",
    "#             transforms.RandomCrop((crop_size,crop_size)),\n",
    "            transforms.Resize((net_input_size, net_input_size))])\n",
    "\n",
    "test_transforms = val_transforms"
   ]
  },
  {
   "cell_type": "markdown",
   "metadata": {
    "papermill": {
     "duration": 0.025073,
     "end_time": "2021-02-09T16:18:31.928692",
     "exception": false,
     "start_time": "2021-02-09T16:18:31.903619",
     "status": "completed"
    },
    "tags": []
   },
   "source": [
    "## Dataset class"
   ]
  },
  {
   "cell_type": "code",
   "execution_count": 10,
   "metadata": {
    "execution": {
     "iopub.execute_input": "2021-02-09T16:18:31.990837Z",
     "iopub.status.busy": "2021-02-09T16:18:31.989846Z",
     "iopub.status.idle": "2021-02-09T16:18:31.992878Z",
     "shell.execute_reply": "2021-02-09T16:18:31.992453Z"
    },
    "papermill": {
     "duration": 0.039293,
     "end_time": "2021-02-09T16:18:31.992975",
     "exception": false,
     "start_time": "2021-02-09T16:18:31.953682",
     "status": "completed"
    },
    "tags": []
   },
   "outputs": [],
   "source": [
    "class Cassava(torch.utils.data.Dataset):\n",
    "\n",
    "    def __init__(self,\n",
    "                 img_dir,\n",
    "                 df,\n",
    "                 img_transforms = None,\n",
    "                 tensor_transforms = None, #transforms applied on Tensor\n",
    "                 output_tensor = True): #if False: image is returned\n",
    "        self.df = df\n",
    "        self.img_dir = Path(img_dir)\n",
    "        self.img_transforms = img_transforms\n",
    "        self.tensor_transforms = tensor_transforms\n",
    "        self.output_tensor = output_tensor\n",
    "        \n",
    "        self.classes = sorted(self.df.label.unique())\n",
    "\n",
    "    def __len__(self):\n",
    "        return len(self.df)\n",
    "    \n",
    "    def __getitem__(self, idx):\n",
    "        img_fn, label = self.df.iloc[idx]\n",
    "        \n",
    "        img = Image.open(self.img_dir / img_fn)\n",
    "        \n",
    "        if self.img_transforms is not None:\n",
    "            img = self.img_transforms(img)\n",
    "        \n",
    "        if self.output_tensor:\n",
    "            img = transforms.functional.to_tensor(img)\n",
    "            if self.tensor_transforms is not None:\n",
    "                img = self.tensor_transforms(img)\n",
    "        return img, label"
   ]
  },
  {
   "cell_type": "markdown",
   "metadata": {
    "papermill": {
     "duration": 0.025386,
     "end_time": "2021-02-09T16:18:32.043419",
     "exception": false,
     "start_time": "2021-02-09T16:18:32.018033",
     "status": "completed"
    },
    "tags": []
   },
   "source": [
    "## Utility functions"
   ]
  },
  {
   "cell_type": "code",
   "execution_count": 11,
   "metadata": {
    "execution": {
     "iopub.execute_input": "2021-02-09T16:18:32.102128Z",
     "iopub.status.busy": "2021-02-09T16:18:32.101247Z",
     "iopub.status.idle": "2021-02-09T16:18:32.104209Z",
     "shell.execute_reply": "2021-02-09T16:18:32.103758Z"
    },
    "papermill": {
     "duration": 0.034559,
     "end_time": "2021-02-09T16:18:32.104308",
     "exception": false,
     "start_time": "2021-02-09T16:18:32.069749",
     "status": "completed"
    },
    "tags": []
   },
   "outputs": [],
   "source": [
    "def accuracy(y_hat, y):\n",
    "    result = torch.mean((y_hat.detach() == y.detach()).float())\n",
    "    return result"
   ]
  },
  {
   "cell_type": "code",
   "execution_count": 12,
   "metadata": {
    "execution": {
     "iopub.execute_input": "2021-02-09T16:18:32.163105Z",
     "iopub.status.busy": "2021-02-09T16:18:32.162261Z",
     "iopub.status.idle": "2021-02-09T16:18:32.165111Z",
     "shell.execute_reply": "2021-02-09T16:18:32.164582Z"
    },
    "papermill": {
     "duration": 0.034764,
     "end_time": "2021-02-09T16:18:32.165202",
     "exception": false,
     "start_time": "2021-02-09T16:18:32.130438",
     "status": "completed"
    },
    "tags": []
   },
   "outputs": [],
   "source": [
    "def log_figure(logger, fig, image_label='confusion matrix', epoch=0):\n",
    "    \"\"\"https://stackoverflow.com/questions/57316491/how-to-convert-matplotlib-figure-to-pil-image-object-without-saving-image\"\"\"\n",
    "#     pil_image = Image.frombytes('RGB', fig.canvas.get_width_height(),fig.canvas.tostring_rgb())\n",
    "    buf = io.BytesIO()\n",
    "    fig.savefig(buf, format='png', dpi = 300)\n",
    "    buf.seek(0)\n",
    "    pil_img = deepcopy(Image.open(buf))\n",
    "    buf.close()\n",
    "    \n",
    "    img = transforms.functional.to_tensor(pil_img)\n",
    "    logger.experiment.add_image(image_label, img, epoch)\n"
   ]
  },
  {
   "cell_type": "markdown",
   "metadata": {
    "papermill": {
     "duration": 0.025172,
     "end_time": "2021-02-09T16:18:32.215611",
     "exception": false,
     "start_time": "2021-02-09T16:18:32.190439",
     "status": "completed"
    },
    "tags": []
   },
   "source": [
    "## Data setup"
   ]
  },
  {
   "cell_type": "code",
   "execution_count": 13,
   "metadata": {
    "execution": {
     "iopub.execute_input": "2021-02-09T16:18:32.284909Z",
     "iopub.status.busy": "2021-02-09T16:18:32.284088Z",
     "iopub.status.idle": "2021-02-09T16:18:32.287105Z",
     "shell.execute_reply": "2021-02-09T16:18:32.286604Z"
    },
    "papermill": {
     "duration": 0.037719,
     "end_time": "2021-02-09T16:18:32.287215",
     "exception": false,
     "start_time": "2021-02-09T16:18:32.249496",
     "status": "completed"
    },
    "tags": []
   },
   "outputs": [],
   "source": [
    "ds = Cassava(train_path, train_df)"
   ]
  },
  {
   "cell_type": "code",
   "execution_count": 14,
   "metadata": {
    "execution": {
     "iopub.execute_input": "2021-02-09T16:18:32.349181Z",
     "iopub.status.busy": "2021-02-09T16:18:32.347746Z",
     "iopub.status.idle": "2021-02-09T16:18:32.357364Z",
     "shell.execute_reply": "2021-02-09T16:18:32.357871Z"
    },
    "papermill": {
     "duration": 0.044539,
     "end_time": "2021-02-09T16:18:32.358001",
     "exception": false,
     "start_time": "2021-02-09T16:18:32.313462",
     "status": "completed"
    },
    "tags": []
   },
   "outputs": [],
   "source": [
    "N = len(train_df)\n",
    "val_size = int(0.1 * N)\n",
    "mask_val = np.zeros(N, dtype='bool')\n",
    "mask_val[np.random.choice(np.arange(N), val_size, replace=False)] = True\n",
    "ds_train = Cassava(train_path, train_df.loc[~mask_val], img_transforms=train_transforms)\n",
    "ds_val = Cassava(train_path, train_df.loc[mask_val], img_transforms=val_transforms)"
   ]
  },
  {
   "cell_type": "code",
   "execution_count": 15,
   "metadata": {
    "execution": {
     "iopub.execute_input": "2021-02-09T16:18:32.420103Z",
     "iopub.status.busy": "2021-02-09T16:18:32.418743Z",
     "iopub.status.idle": "2021-02-09T16:18:32.422035Z",
     "shell.execute_reply": "2021-02-09T16:18:32.421500Z"
    },
    "papermill": {
     "duration": 0.035327,
     "end_time": "2021-02-09T16:18:32.422130",
     "exception": false,
     "start_time": "2021-02-09T16:18:32.386803",
     "status": "completed"
    },
    "tags": []
   },
   "outputs": [],
   "source": [
    "ds_val.img_transforms = val_transforms\n",
    "ds_train.img_transforms = train_transforms"
   ]
  },
  {
   "cell_type": "code",
   "execution_count": 16,
   "metadata": {
    "execution": {
     "iopub.execute_input": "2021-02-09T16:18:32.482600Z",
     "iopub.status.busy": "2021-02-09T16:18:32.482044Z",
     "iopub.status.idle": "2021-02-09T16:18:32.749110Z",
     "shell.execute_reply": "2021-02-09T16:18:32.749580Z"
    },
    "papermill": {
     "duration": 0.300164,
     "end_time": "2021-02-09T16:18:32.749718",
     "exception": false,
     "start_time": "2021-02-09T16:18:32.449554",
     "status": "completed"
    },
    "tags": []
   },
   "outputs": [
    {
     "data": {
      "image/png": "[encoded data removed]",
      "text/plain": [
       "<Figure size 432x288 with 1 Axes>"
      ]
     },
     "metadata": {
      "needs_background": "light"
     },
     "output_type": "display_data"
    }
   ],
   "source": [
    "ds_train.output_tensor = False\n",
    "img, label = ds_train[np.random.randint(len(ds_train))]\n",
    "plt.imshow(img)\n",
    "plt.title(label)\n",
    "ds_train.output_tensor = True"
   ]
  },
  {
   "cell_type": "markdown",
   "metadata": {
    "papermill": {
     "duration": 0.029291,
     "end_time": "2021-02-09T16:18:32.808534",
     "exception": false,
     "start_time": "2021-02-09T16:18:32.779243",
     "status": "completed"
    },
    "tags": []
   },
   "source": [
    "## PL Module"
   ]
  },
  {
   "cell_type": "code",
   "execution_count": 17,
   "metadata": {
    "execution": {
     "iopub.execute_input": "2021-02-09T16:18:32.890447Z",
     "iopub.status.busy": "2021-02-09T16:18:32.885228Z",
     "iopub.status.idle": "2021-02-09T16:18:32.893387Z",
     "shell.execute_reply": "2021-02-09T16:18:32.892936Z"
    },
    "papermill": {
     "duration": 0.056173,
     "end_time": "2021-02-09T16:18:32.893490",
     "exception": false,
     "start_time": "2021-02-09T16:18:32.837317",
     "status": "completed"
    },
    "tags": []
   },
   "outputs": [],
   "source": [
    "class MyModel(pl.LightningModule):\n",
    "\n",
    "    def __init__(self, model):\n",
    "        super().__init__()\n",
    "        self.model = model\n",
    "        self.batch_size = None\n",
    "\n",
    "    def forward(self, x):\n",
    "        y = self.model(x)\n",
    "        return y\n",
    "    \n",
    "    def training_setup(self, loss_fn=None, train_dataset=None, val_dataset=None,\n",
    "                      batch_size=None, lr=1e-3):\n",
    "        if loss_fn is not None:\n",
    "            self.loss_fn = loss_fn\n",
    "        if train_dataset is not None:\n",
    "            self.train_dataset = train_dataset\n",
    "        if val_dataset is not None:\n",
    "            self.val_dataset = val_dataset\n",
    "        if batch_size is not None:\n",
    "            self.batch_size = batch_size\n",
    "        if lr is not None:\n",
    "            self.lr = lr            \n",
    "            \n",
    "    def training_step(self, batch, batch_idx):\n",
    "        # training_step defined the train loop.\n",
    "        # It is independent of forward\n",
    "        x, y = batch\n",
    "        p = self.model(x)\n",
    "        loss = self.loss_fn(p, y)\n",
    "        \n",
    "        y_hat = torch.argmax(p.detach(), dim=1)\n",
    "#         # Logging to TensorBoard by default\n",
    "# pytorch-lightning 0.10\n",
    "        self.log('train_loss', loss)\n",
    "        self.log('train_accuracy', accuracy(y_hat, y))\n",
    "        return {'loss': loss, 'y_hat': y_hat.detach().cpu().numpy(), 'y': y.detach().cpu().numpy()}\n",
    "\n",
    "    def validation_step(self, batch, batch_idx):\n",
    "        return self._shared_eval(batch, batch_idx, 'val')\n",
    "\n",
    "    def test_step(self, batch, batch_idx):\n",
    "        return self._shared_eval(batch, batch_idx, 'test')\n",
    "\n",
    "    def _shared_eval(self, batch, batch_idx, prefix):\n",
    "        x, y = batch\n",
    "        p = self.model(x)\n",
    "        loss = self.loss_fn(p, y)\n",
    "        y_hat = torch.argmax(p.detach(), dim=1)\n",
    "\n",
    "         # Logging to TensorBoard by default\n",
    "        self.log_dict({f'{prefix}_loss': loss, f'{prefix}_accuracy': accuracy(y_hat, y)})\n",
    "        return {'loss': loss, 'y_hat': y_hat.detach().cpu().numpy(), 'y': y.detach().cpu().numpy()}        \n",
    "\n",
    "    def log_confusion_matrix(self, data, prefix, normalized=True):\n",
    "        confusion_matrix = get_confusion_matrix(data, N_classes, normalized=normalized)\n",
    "        confusion_matrix_fig = plot_confusion_matrix(confusion_matrix)\n",
    "        log_figure(self.logger, confusion_matrix_fig, f'{prefix}_confusion matrix', epoch=self.current_epoch)        \n",
    "    \n",
    "    def training_epoch_end(self, training_step_outputs):\n",
    "        self.log_confusion_matrix(training_step_outputs, 'train')\n",
    "    \n",
    "    def validation_epoch_end(self, validation_step_outputs):\n",
    "        self.log_confusion_matrix(validation_step_outputs, 'val')\n",
    "        \n",
    "    def configure_optimizers(self):\n",
    "        optimizer = torch.optim.Adam(self.parameters(), lr=self.lr)\n",
    "        scheduler = torch.optim.lr_scheduler.StepLR(optimizer, step_size=10, gamma=0.1)\n",
    "        return [optimizer], [scheduler]\n",
    "    \n",
    "    def train_dataloader(self):\n",
    "        return DataLoader(self.train_dataset, batch_size=self.batch_size, shuffle=True, num_workers=0)\n",
    "    \n",
    "    def val_dataloader(self):\n",
    "        return DataLoader(self.val_dataset, batch_size=self.batch_size, num_workers=0)\n"
   ]
  },
  {
   "cell_type": "markdown",
   "metadata": {
    "papermill": {
     "duration": 0.030282,
     "end_time": "2021-02-09T16:18:32.953128",
     "exception": false,
     "start_time": "2021-02-09T16:18:32.922846",
     "status": "completed"
    },
    "tags": []
   },
   "source": [
    "## Model setup"
   ]
  },
  {
   "cell_type": "code",
   "execution_count": 18,
   "metadata": {
    "execution": {
     "iopub.execute_input": "2021-02-09T16:18:33.031232Z",
     "iopub.status.busy": "2021-02-09T16:18:33.030359Z",
     "iopub.status.idle": "2021-02-09T16:18:33.134367Z",
     "shell.execute_reply": "2021-02-09T16:18:33.133896Z"
    },
    "papermill": {
     "duration": 0.14899,
     "end_time": "2021-02-09T16:18:33.134468",
     "exception": false,
     "start_time": "2021-02-09T16:18:32.985478",
     "status": "completed"
    },
    "tags": []
   },
   "outputs": [
    {
     "ename": "NameError",
     "evalue": "name 'efficientnet_pytorch' is not defined",
     "output_type": "error",
     "traceback": [
      "\u001b[0;31m---------------------------------------------------------------------------\u001b[0m",
      "\u001b[0;31mNameError\u001b[0m                                 Traceback (most recent call last)",
      "\u001b[0;32m<ipython-input-18-73fa928fea9c>\u001b[0m in \u001b[0;36m<module>\u001b[0;34m\u001b[0m\n\u001b[0;32m----> 1\u001b[0;31m \u001b[0mnet\u001b[0m \u001b[0;34m=\u001b[0m \u001b[0mefficientnet_pytorch\u001b[0m\u001b[0;34m.\u001b[0m\u001b[0mEfficientNet\u001b[0m\u001b[0;34m.\u001b[0m\u001b[0mfrom_pretrained\u001b[0m\u001b[0;34m(\u001b[0m\u001b[0;34mf'efficientnet-b{effnet_version}'\u001b[0m\u001b[0;34m,\u001b[0m \u001b[0mnum_classes\u001b[0m\u001b[0;34m=\u001b[0m\u001b[0mN_classes\u001b[0m\u001b[0;34m)\u001b[0m\u001b[0;34m\u001b[0m\u001b[0;34m\u001b[0m\u001b[0m\n\u001b[0m",
      "\u001b[0;31mNameError\u001b[0m: name 'efficientnet_pytorch' is not defined"
     ]
    }
   ],
   "source": [
    "net = efficientnet_pytorch.EfficientNet.from_pretrained(f'efficientnet-b{effnet_version}', num_classes=N_classes)"
   ]
  },
  {
   "cell_type": "code",
   "execution_count": 19,
   "metadata": {
    "execution": {
     "iopub.execute_input": "2021-02-09T16:18:33.210474Z",
     "iopub.status.busy": "2021-02-09T16:18:33.209569Z",
     "iopub.status.idle": "2021-02-09T16:18:33.213744Z",
     "shell.execute_reply": "2021-02-09T16:18:33.213281Z"
    },
    "papermill": {
     "duration": 0.049902,
     "end_time": "2021-02-09T16:18:33.213837",
     "exception": false,
     "start_time": "2021-02-09T16:18:33.163935",
     "status": "completed"
    },
    "tags": []
   },
   "outputs": [
    {
     "ename": "NameError",
     "evalue": "name 'net' is not defined",
     "output_type": "error",
     "traceback": [
      "\u001b[0;31m---------------------------------------------------------------------------\u001b[0m",
      "\u001b[0;31mNameError\u001b[0m                                 Traceback (most recent call last)",
      "\u001b[0;32m<ipython-input-19-7a5e911a8bc7>\u001b[0m in \u001b[0;36m<module>\u001b[0;34m\u001b[0m\n\u001b[0;32m----> 1\u001b[0;31m \u001b[0mmymodel\u001b[0m \u001b[0;34m=\u001b[0m \u001b[0mMyModel\u001b[0m\u001b[0;34m(\u001b[0m\u001b[0mnet\u001b[0m\u001b[0;34m)\u001b[0m\u001b[0;34m\u001b[0m\u001b[0;34m\u001b[0m\u001b[0m\n\u001b[0m\u001b[1;32m      2\u001b[0m \u001b[0mmymodel\u001b[0m\u001b[0;34m.\u001b[0m\u001b[0mtraining_setup\u001b[0m\u001b[0;34m(\u001b[0m\u001b[0mloss_fn\u001b[0m\u001b[0;34m=\u001b[0m\u001b[0mFocalLoss\u001b[0m\u001b[0;34m(\u001b[0m\u001b[0malpha\u001b[0m\u001b[0;34m=\u001b[0m\u001b[0;36m0.5\u001b[0m\u001b[0;34m,\u001b[0m \u001b[0mreduction\u001b[0m\u001b[0;34m=\u001b[0m\u001b[0;34m'mean'\u001b[0m\u001b[0;34m)\u001b[0m\u001b[0;34m)\u001b[0m \u001b[0;31m#torch.nn.CrossEntropyLoss())\u001b[0m\u001b[0;34m\u001b[0m\u001b[0;34m\u001b[0m\u001b[0m\n\u001b[1;32m      3\u001b[0m \u001b[0mmymodel\u001b[0m\u001b[0;34m.\u001b[0m\u001b[0mtraining_setup\u001b[0m\u001b[0;34m(\u001b[0m\u001b[0mtrain_dataset\u001b[0m\u001b[0;34m=\u001b[0m\u001b[0mds_train\u001b[0m\u001b[0;34m,\u001b[0m \u001b[0mval_dataset\u001b[0m\u001b[0;34m=\u001b[0m\u001b[0mds_val\u001b[0m\u001b[0;34m)\u001b[0m\u001b[0;34m\u001b[0m\u001b[0;34m\u001b[0m\u001b[0m\n\u001b[1;32m      4\u001b[0m \u001b[0mmymodel\u001b[0m\u001b[0;34m.\u001b[0m\u001b[0mtraining_setup\u001b[0m\u001b[0;34m(\u001b[0m\u001b[0mbatch_size\u001b[0m\u001b[0;34m=\u001b[0m\u001b[0;36m4\u001b[0m\u001b[0;34m)\u001b[0m\u001b[0;34m\u001b[0m\u001b[0;34m\u001b[0m\u001b[0m\n",
      "\u001b[0;31mNameError\u001b[0m: name 'net' is not defined"
     ]
    }
   ],
   "source": [
    "mymodel = MyModel(net)\n",
    "mymodel.training_setup(loss_fn=FocalLoss(alpha=0.5, reduction='mean')) #torch.nn.CrossEntropyLoss())\n",
    "mymodel.training_setup(train_dataset=ds_train, val_dataset=ds_val)\n",
    "mymodel.training_setup(batch_size=4)"
   ]
  },
  {
   "cell_type": "code",
   "execution_count": 20,
   "metadata": {
    "execution": {
     "iopub.execute_input": "2021-02-09T16:18:33.280679Z",
     "iopub.status.busy": "2021-02-09T16:18:33.279945Z",
     "iopub.status.idle": "2021-02-09T16:18:37.513588Z",
     "shell.execute_reply": "2021-02-09T16:18:37.513123Z"
    },
    "papermill": {
     "duration": 4.269684,
     "end_time": "2021-02-09T16:18:37.513685",
     "exception": false,
     "start_time": "2021-02-09T16:18:33.244001",
     "status": "completed"
    },
    "tags": []
   },
   "outputs": [
    {
     "name": "stderr",
     "output_type": "stream",
     "text": [
      "GPU available: True, used: True\n",
      "TPU available: False, using: 0 TPU cores\n",
      "LOCAL_RANK: 0 - CUDA_VISIBLE_DEVICES: [0]\n"
     ]
    }
   ],
   "source": [
    "# most basic trainer, uses good defaults (auto-tensorboard, checkpoints, logs, and more)\n",
    "# trainer = pl.Trainer(gpus=8) (if you have GPUs)\n",
    "early_stopping_callback = pl.callbacks.EarlyStopping('val_loss', patience=5)\n",
    "trainer = pl.Trainer(callbacks=[early_stopping_callback],\n",
    "                     accumulate_grad_batches=4,\n",
    "#                       gradient_clip_val=0.5,\n",
    "                     max_epochs=200,\n",
    "#                      val_check_interval=0.25, #check_val_every_n_epoch=1\n",
    "                     gpus=1, auto_select_gpus=True,\n",
    "#                      auto_scale_batch_size='binsearch'\n",
    "                    ) # needs data loader in pl_module\n",
    "# trainer = Trainer(default_root_dir='/your/path/to/save/checkpoints')"
   ]
  },
  {
   "cell_type": "code",
   "execution_count": 21,
   "metadata": {
    "execution": {
     "iopub.execute_input": "2021-02-09T16:18:37.579824Z",
     "iopub.status.busy": "2021-02-09T16:18:37.579081Z",
     "iopub.status.idle": "2021-02-09T16:18:37.581523Z",
     "shell.execute_reply": "2021-02-09T16:18:37.582027Z"
    },
    "papermill": {
     "duration": 0.037693,
     "end_time": "2021-02-09T16:18:37.582135",
     "exception": false,
     "start_time": "2021-02-09T16:18:37.544442",
     "status": "completed"
    },
    "tags": []
   },
   "outputs": [],
   "source": [
    "# trainer.tune(mymodel)"
   ]
  },
  {
   "cell_type": "markdown",
   "metadata": {
    "papermill": {
     "duration": 0.030549,
     "end_time": "2021-02-09T16:18:37.643665",
     "exception": false,
     "start_time": "2021-02-09T16:18:37.613116",
     "status": "completed"
    },
    "tags": []
   },
   "source": [
    "# Training"
   ]
  },
  {
   "cell_type": "code",
   "execution_count": 22,
   "metadata": {
    "execution": {
     "iopub.execute_input": "2021-02-09T16:18:37.715696Z",
     "iopub.status.busy": "2021-02-09T16:18:37.714878Z",
     "iopub.status.idle": "2021-02-09T16:18:37.724825Z",
     "shell.execute_reply": "2021-02-09T16:18:37.724276Z"
    },
    "papermill": {
     "duration": 0.050474,
     "end_time": "2021-02-09T16:18:37.724919",
     "exception": false,
     "start_time": "2021-02-09T16:18:37.674445",
     "status": "completed"
    },
    "tags": []
   },
   "outputs": [
    {
     "ename": "NameError",
     "evalue": "name 'mymodel' is not defined",
     "output_type": "error",
     "traceback": [
      "\u001b[0;31m---------------------------------------------------------------------------\u001b[0m",
      "\u001b[0;31mNameError\u001b[0m                                 Traceback (most recent call last)",
      "\u001b[0;32m<ipython-input-22-11d62bf9caf1>\u001b[0m in \u001b[0;36m<module>\u001b[0;34m\u001b[0m\n\u001b[0;32m----> 1\u001b[0;31m \u001b[0mtrainer\u001b[0m\u001b[0;34m.\u001b[0m\u001b[0mfit\u001b[0m\u001b[0;34m(\u001b[0m\u001b[0mmymodel\u001b[0m\u001b[0;34m)\u001b[0m\u001b[0;34m\u001b[0m\u001b[0;34m\u001b[0m\u001b[0m\n\u001b[0m",
      "\u001b[0;31mNameError\u001b[0m: name 'mymodel' is not defined"
     ]
    }
   ],
   "source": [
    "trainer.fit(mymodel)"
   ]
  },
  {
   "cell_type": "markdown",
   "metadata": {
    "papermill": {
     "duration": 0.03139,
     "end_time": "2021-02-09T16:18:37.787701",
     "exception": false,
     "start_time": "2021-02-09T16:18:37.756311",
     "status": "completed"
    },
    "tags": []
   },
   "source": [
    "# Test"
   ]
  },
  {
   "cell_type": "code",
   "execution_count": 23,
   "metadata": {
    "execution": {
     "iopub.execute_input": "2021-02-09T16:18:37.855887Z",
     "iopub.status.busy": "2021-02-09T16:18:37.855210Z",
     "iopub.status.idle": "2021-02-09T16:18:58.691259Z",
     "shell.execute_reply": "2021-02-09T16:18:58.690771Z"
    },
    "papermill": {
     "duration": 20.871974,
     "end_time": "2021-02-09T16:18:58.691397",
     "exception": false,
     "start_time": "2021-02-09T16:18:37.819423",
     "status": "completed"
    },
    "tags": []
   },
   "outputs": [],
   "source": [
    "test_files = list(test_path.glob('*.jpg'))\n",
    "train_files = list(train_path.glob('*.jpg'))"
   ]
  },
  {
   "cell_type": "code",
   "execution_count": 24,
   "metadata": {
    "execution": {
     "iopub.execute_input": "2021-02-09T16:18:58.763143Z",
     "iopub.status.busy": "2021-02-09T16:18:58.762265Z",
     "iopub.status.idle": "2021-02-09T16:18:58.764464Z",
     "shell.execute_reply": "2021-02-09T16:18:58.764924Z"
    },
    "papermill": {
     "duration": 0.04138,
     "end_time": "2021-02-09T16:18:58.765035",
     "exception": false,
     "start_time": "2021-02-09T16:18:58.723655",
     "status": "completed"
    },
    "tags": []
   },
   "outputs": [],
   "source": [
    "class CassavaTest(torch.utils.data.Dataset):\n",
    "    def __init__(self, list_of_files, transforms=None):\n",
    "        self.list_of_files = list_of_files\n",
    "        self.transforms = transforms\n",
    "    def __len__(self):\n",
    "        return len(self.list_of_files)\n",
    "    def __getitem__(self, idx):\n",
    "        fn = self.list_of_files[idx]\n",
    "        x = Image.open(fn)\n",
    "        if self.transforms is not None:\n",
    "            for transform in self.transforms:\n",
    "                x = transform(x)\n",
    "        return x, idx"
   ]
  },
  {
   "cell_type": "code",
   "execution_count": 25,
   "metadata": {
    "execution": {
     "iopub.execute_input": "2021-02-09T16:18:58.833669Z",
     "iopub.status.busy": "2021-02-09T16:18:58.832951Z",
     "iopub.status.idle": "2021-02-09T16:18:58.835386Z",
     "shell.execute_reply": "2021-02-09T16:18:58.835901Z"
    },
    "papermill": {
     "duration": 0.038882,
     "end_time": "2021-02-09T16:18:58.836010",
     "exception": false,
     "start_time": "2021-02-09T16:18:58.797128",
     "status": "completed"
    },
    "tags": []
   },
   "outputs": [],
   "source": [
    "test_dataset = CassavaTest(test_files, [test_transforms, transforms.ToTensor()]) #train_files[:22]\n",
    "test_dataloader = torch.utils.data.DataLoader(test_dataset, batch_size=4)"
   ]
  },
  {
   "cell_type": "code",
   "execution_count": 26,
   "metadata": {
    "execution": {
     "iopub.execute_input": "2021-02-09T16:18:58.903806Z",
     "iopub.status.busy": "2021-02-09T16:18:58.903070Z",
     "iopub.status.idle": "2021-02-09T16:18:58.957176Z",
     "shell.execute_reply": "2021-02-09T16:18:58.956743Z"
    },
    "papermill": {
     "duration": 0.08999,
     "end_time": "2021-02-09T16:18:58.957274",
     "exception": false,
     "start_time": "2021-02-09T16:18:58.867284",
     "status": "completed"
    },
    "tags": []
   },
   "outputs": [
    {
     "data": {
      "text/plain": [
       "(tensor([[[0.5490, 0.6196, 0.6549,  ..., 0.5294, 0.5804, 0.5020],\n",
       "          [0.6118, 0.6510, 0.7216,  ..., 0.6275, 0.6157, 0.6588],\n",
       "          [0.7412, 0.7451, 0.8196,  ..., 0.6118, 0.5333, 0.6706],\n",
       "          ...,\n",
       "          [0.1059, 0.0980, 0.1020,  ..., 0.1255, 0.1294, 0.1529],\n",
       "          [0.1333, 0.1294, 0.1294,  ..., 0.0980, 0.1137, 0.1255],\n",
       "          [0.0941, 0.1098, 0.1216,  ..., 0.0824, 0.0745, 0.0863]],\n",
       " \n",
       "         [[0.5569, 0.6863, 0.7255,  ..., 0.6745, 0.7216, 0.6039],\n",
       "          [0.6353, 0.7216, 0.7843,  ..., 0.7294, 0.7176, 0.7294],\n",
       "          [0.7804, 0.8118, 0.8549,  ..., 0.6863, 0.6157, 0.7373],\n",
       "          ...,\n",
       "          [0.1725, 0.1725, 0.1765,  ..., 0.1020, 0.1059, 0.1294],\n",
       "          [0.2039, 0.2039, 0.2039,  ..., 0.0667, 0.0824, 0.0941],\n",
       "          [0.1725, 0.1882, 0.1961,  ..., 0.0471, 0.0392, 0.0510]],\n",
       " \n",
       "         [[0.4667, 0.5804, 0.6353,  ..., 0.4824, 0.4392, 0.4078],\n",
       "          [0.5922, 0.6588, 0.7255,  ..., 0.5569, 0.4706, 0.5569],\n",
       "          [0.7882, 0.8039, 0.8471,  ..., 0.5333, 0.4157, 0.5843],\n",
       "          ...,\n",
       "          [0.1490, 0.1490, 0.1529,  ..., 0.1098, 0.1137, 0.1373],\n",
       "          [0.1804, 0.1804, 0.1804,  ..., 0.0784, 0.0941, 0.1059],\n",
       "          [0.1490, 0.1647, 0.1725,  ..., 0.0627, 0.0588, 0.0667]]]),\n",
       " 0)"
      ]
     },
     "execution_count": 26,
     "metadata": {},
     "output_type": "execute_result"
    }
   ],
   "source": [
    "test_dataset[0]"
   ]
  },
  {
   "cell_type": "code",
   "execution_count": 27,
   "metadata": {
    "execution": {
     "iopub.execute_input": "2021-02-09T16:18:59.031154Z",
     "iopub.status.busy": "2021-02-09T16:18:59.030416Z",
     "iopub.status.idle": "2021-02-09T16:18:59.033571Z",
     "shell.execute_reply": "2021-02-09T16:18:59.033033Z"
    },
    "papermill": {
     "duration": 0.043483,
     "end_time": "2021-02-09T16:18:59.033674",
     "exception": false,
     "start_time": "2021-02-09T16:18:58.990191",
     "status": "completed"
    },
    "tags": []
   },
   "outputs": [],
   "source": [
    "def predict(model, dataloader):\n",
    "    result = {'idx': [], 'label': []}\n",
    "    for x, idxs in dataloader:\n",
    "        p = model(x)\n",
    "        y_hat = torch.argmax(p.detach(), dim=1)\n",
    "        result['idx'].extend(list(idxs.detach().cpu().long().numpy()))\n",
    "        result['label'].extend(list(y_hat.cpu().numpy()))\n",
    "    return result"
   ]
  },
  {
   "cell_type": "code",
   "execution_count": 28,
   "metadata": {
    "execution": {
     "iopub.execute_input": "2021-02-09T16:18:59.114966Z",
     "iopub.status.busy": "2021-02-09T16:18:59.114127Z",
     "iopub.status.idle": "2021-02-09T16:18:59.117813Z",
     "shell.execute_reply": "2021-02-09T16:18:59.118279Z"
    },
    "papermill": {
     "duration": 0.051609,
     "end_time": "2021-02-09T16:18:59.118424",
     "exception": false,
     "start_time": "2021-02-09T16:18:59.066815",
     "status": "completed"
    },
    "tags": []
   },
   "outputs": [
    {
     "ename": "NameError",
     "evalue": "name 'mymodel' is not defined",
     "output_type": "error",
     "traceback": [
      "\u001b[0;31m---------------------------------------------------------------------------\u001b[0m",
      "\u001b[0;31mNameError\u001b[0m                                 Traceback (most recent call last)",
      "\u001b[0;32m<ipython-input-28-d901af0deac4>\u001b[0m in \u001b[0;36m<module>\u001b[0;34m\u001b[0m\n\u001b[0;32m----> 1\u001b[0;31m \u001b[0mtest_result\u001b[0m \u001b[0;34m=\u001b[0m \u001b[0mpredict\u001b[0m\u001b[0;34m(\u001b[0m\u001b[0mmymodel\u001b[0m\u001b[0;34m,\u001b[0m \u001b[0mtest_dataloader\u001b[0m\u001b[0;34m)\u001b[0m\u001b[0;34m\u001b[0m\u001b[0;34m\u001b[0m\u001b[0m\n\u001b[0m",
      "\u001b[0;31mNameError\u001b[0m: name 'mymodel' is not defined"
     ]
    }
   ],
   "source": [
    "test_result = predict(mymodel, test_dataloader)"
   ]
  },
  {
   "cell_type": "code",
   "execution_count": 29,
   "metadata": {
    "execution": {
     "iopub.execute_input": "2021-02-09T16:18:59.208424Z",
     "iopub.status.busy": "2021-02-09T16:18:59.207622Z",
     "iopub.status.idle": "2021-02-09T16:18:59.211127Z",
     "shell.execute_reply": "2021-02-09T16:18:59.211601Z"
    },
    "papermill": {
     "duration": 0.057618,
     "end_time": "2021-02-09T16:18:59.211727",
     "exception": false,
     "start_time": "2021-02-09T16:18:59.154109",
     "status": "completed"
    },
    "tags": []
   },
   "outputs": [
    {
     "ename": "NameError",
     "evalue": "name 'test_result' is not defined",
     "output_type": "error",
     "traceback": [
      "\u001b[0;31m---------------------------------------------------------------------------\u001b[0m",
      "\u001b[0;31mNameError\u001b[0m                                 Traceback (most recent call last)",
      "\u001b[0;32m<ipython-input-29-fdd38540b202>\u001b[0m in \u001b[0;36m<module>\u001b[0;34m\u001b[0m\n\u001b[0;32m----> 1\u001b[0;31m \u001b[0mtest_result\u001b[0m\u001b[0;34m[\u001b[0m\u001b[0;34m'image_id'\u001b[0m\u001b[0;34m]\u001b[0m \u001b[0;34m=\u001b[0m \u001b[0;34m[\u001b[0m\u001b[0mtest_dataset\u001b[0m\u001b[0;34m.\u001b[0m\u001b[0mlist_of_files\u001b[0m\u001b[0;34m[\u001b[0m\u001b[0mn\u001b[0m\u001b[0;34m]\u001b[0m\u001b[0;34m.\u001b[0m\u001b[0mname\u001b[0m \u001b[0;32mfor\u001b[0m \u001b[0mn\u001b[0m \u001b[0;32min\u001b[0m \u001b[0mtest_result\u001b[0m\u001b[0;34m[\u001b[0m\u001b[0;34m'idx'\u001b[0m\u001b[0;34m]\u001b[0m\u001b[0;34m]\u001b[0m\u001b[0;34m\u001b[0m\u001b[0;34m\u001b[0m\u001b[0m\n\u001b[0m",
      "\u001b[0;31mNameError\u001b[0m: name 'test_result' is not defined"
     ]
    }
   ],
   "source": [
    "test_result['image_id'] = [test_dataset.list_of_files[n].name for n in test_result['idx']]"
   ]
  },
  {
   "cell_type": "code",
   "execution_count": 30,
   "metadata": {
    "execution": {
     "iopub.execute_input": "2021-02-09T16:18:59.301689Z",
     "iopub.status.busy": "2021-02-09T16:18:59.300716Z",
     "iopub.status.idle": "2021-02-09T16:18:59.305069Z",
     "shell.execute_reply": "2021-02-09T16:18:59.304506Z"
    },
    "papermill": {
     "duration": 0.055327,
     "end_time": "2021-02-09T16:18:59.305167",
     "exception": false,
     "start_time": "2021-02-09T16:18:59.249840",
     "status": "completed"
    },
    "tags": []
   },
   "outputs": [
    {
     "ename": "NameError",
     "evalue": "name 'test_result' is not defined",
     "output_type": "error",
     "traceback": [
      "\u001b[0;31m---------------------------------------------------------------------------\u001b[0m",
      "\u001b[0;31mNameError\u001b[0m                                 Traceback (most recent call last)",
      "\u001b[0;32m<ipython-input-30-1002cddc4901>\u001b[0m in \u001b[0;36m<module>\u001b[0;34m\u001b[0m\n\u001b[0;32m----> 1\u001b[0;31m \u001b[0mfinal_result\u001b[0m \u001b[0;34m=\u001b[0m \u001b[0mpd\u001b[0m\u001b[0;34m.\u001b[0m\u001b[0mDataFrame\u001b[0m\u001b[0;34m(\u001b[0m\u001b[0;34m{\u001b[0m\u001b[0;34m'image_id'\u001b[0m\u001b[0;34m:\u001b[0m \u001b[0mtest_result\u001b[0m\u001b[0;34m[\u001b[0m\u001b[0;34m'image_id'\u001b[0m\u001b[0;34m]\u001b[0m\u001b[0;34m,\u001b[0m \u001b[0;34m'label'\u001b[0m\u001b[0;34m:\u001b[0m \u001b[0mtest_result\u001b[0m\u001b[0;34m[\u001b[0m\u001b[0;34m'label'\u001b[0m\u001b[0;34m]\u001b[0m\u001b[0;34m}\u001b[0m\u001b[0;34m)\u001b[0m\u001b[0;34m\u001b[0m\u001b[0;34m\u001b[0m\u001b[0m\n\u001b[0m",
      "\u001b[0;31mNameError\u001b[0m: name 'test_result' is not defined"
     ]
    }
   ],
   "source": [
    "final_result = pd.DataFrame({'image_id': test_result['image_id'], 'label': test_result['label']})"
   ]
  },
  {
   "cell_type": "code",
   "execution_count": 31,
   "metadata": {
    "execution": {
     "iopub.execute_input": "2021-02-09T16:18:59.391915Z",
     "iopub.status.busy": "2021-02-09T16:18:59.390989Z",
     "iopub.status.idle": "2021-02-09T16:18:59.395372Z",
     "shell.execute_reply": "2021-02-09T16:18:59.394902Z"
    },
    "papermill": {
     "duration": 0.055017,
     "end_time": "2021-02-09T16:18:59.395476",
     "exception": false,
     "start_time": "2021-02-09T16:18:59.340459",
     "status": "completed"
    },
    "tags": []
   },
   "outputs": [
    {
     "ename": "NameError",
     "evalue": "name 'final_result' is not defined",
     "output_type": "error",
     "traceback": [
      "\u001b[0;31m---------------------------------------------------------------------------\u001b[0m",
      "\u001b[0;31mNameError\u001b[0m                                 Traceback (most recent call last)",
      "\u001b[0;32m<ipython-input-31-3958913c92d3>\u001b[0m in \u001b[0;36m<module>\u001b[0;34m\u001b[0m\n\u001b[0;32m----> 1\u001b[0;31m \u001b[0mfinal_result\u001b[0m\u001b[0;34m.\u001b[0m\u001b[0mto_csv\u001b[0m\u001b[0;34m(\u001b[0m\u001b[0;34m'submission.csv'\u001b[0m\u001b[0;34m,\u001b[0m \u001b[0mindex\u001b[0m\u001b[0;34m=\u001b[0m\u001b[0;32mFalse\u001b[0m\u001b[0;34m)\u001b[0m\u001b[0;34m\u001b[0m\u001b[0;34m\u001b[0m\u001b[0m\n\u001b[0m",
      "\u001b[0;31mNameError\u001b[0m: name 'final_result' is not defined"
     ]
    }
   ],
   "source": [
    "final_result.to_csv('submission.csv', index=False)"
   ]
  }
 ],
 "metadata": {
  "kernelspec": {
   "display_name": "Python 3",
   "language": "python",
   "name": "python3"
  },
  "language_info": {
   "codemirror_mode": {
    "name": "ipython",
    "version": 3
   },
   "file_extension": ".py",
   "mimetype": "text/x-python",
   "name": "python",
   "nbconvert_exporter": "python",
   "pygments_lexer": "ipython3",
   "version": "3.7.3"
  },
  "papermill": {
   "duration": 185.122962,
   "end_time": "2021-02-09T16:18:59.837742",
   "environment_variables": {},
   "exception": null,
   "input_path": "__notebook__.ipynb",
   "output_path": "__notebook__.ipynb",
   "parameters": {},
   "start_time": "2021-02-09T16:15:54.714780",
   "version": "2.1.0"
  }
 },
 "nbformat": 4,
 "nbformat_minor": 4
}
